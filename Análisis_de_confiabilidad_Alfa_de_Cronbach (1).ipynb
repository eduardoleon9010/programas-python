{
  "nbformat": 4,
  "nbformat_minor": 0,
  "metadata": {
    "colab": {
      "provenance": []
    },
    "kernelspec": {
      "name": "python3",
      "display_name": "Python 3"
    },
    "language_info": {
      "name": "python"
    }
  },
  "cells": [
    {
      "cell_type": "markdown",
      "source": [
        "## Análisis de confiabilidad Alfa de Cronbach"
      ],
      "metadata": {
        "id": "B2PZe2EmZgFI"
      }
    },
    {
      "cell_type": "code",
      "execution_count": 5,
      "metadata": {
        "colab": {
          "base_uri": "https://localhost:8080/"
        },
        "id": "IoQWHJLHHwex",
        "outputId": "8786ba65-5f12-4415-ac36-9e75f2305357"
      },
      "outputs": [
        {
          "output_type": "execute_result",
          "data": {
            "text/plain": [
              "0.9659039732694124"
            ]
          },
          "metadata": {},
          "execution_count": 5
        }
      ],
      "source": [
        "import pandas as pd\n",
        "import numpy as np\n",
        "\n",
        "# Datos del cuestionario\n",
        "data = {\n",
        "    'Q1': [3, 3, 3, 2, 3, 4, 4, 2, 3, 4, 4, 4, 2, 3, 3],\n",
        "    'Q2': [3, 3, 3, 2, 4, 4, 4, 2, 4, 4, 3, 3, 2, 3, 3],\n",
        "    'Q3': [3, 3, 3, 2, 4, 4, 4, 2, 4, 4, 3, 3, 2, 3, 3],\n",
        "    'Q4': [3, 3, 4, 2, 4, 4, 4, 3, 4, 3, 3, 3, 2, 3, 3],\n",
        "    'Q5': [3, 3, 3, 2, 3, 4, 4, 2, 4, 3, 4, 3, 3, 3, 3],\n",
        "    'Q6': [2, 2, 3, 3, 2, 4, 4, 2, 2, 4, 3, 4, 3, 2, 4],\n",
        "    'Q7': [3, 3, 3, 2, 4, 3, 4, 2, 4, 4, 3, 3, 2, 3, 3],\n",
        "    'Q8': [3, 3, 3, 2, 4, 3, 4, 2, 3, 4, 3, 3, 2, 3, 3],\n",
        "    'Q9': [4, 4, 3, 3, 4, 4, 3, 3, 4, 4, 3, 3, 2, 3, 4],\n",
        "    'Q10': [3, 3, 2, 3, 4, 3, 3, 2, 4, 4, 3, 3, 2, 3, 3],\n",
        "    'Q11': [3, 3, 3, 2, 3, 4, 4, 2, 4, 4, 4, 3, 2, 3, 3],\n",
        "    'Q12': [3, 3, 4, 3, 4, 4, 4, 3, 4, 3, 4, 3, 2, 3, 4],\n",
        "    'Q13': [3, 3, 3, 2, 3, 4, 4, 2, 4, 4, 4, 4, 2, 3, 3],\n",
        "    'Q14': [3, 3, 4, 2, 4, 4, 4, 3, 4, 4, 3, 3, 2, 3, 3],\n",
        "    'Q15': [3, 3, 3, 2, 4, 4, 4, 2, 4, 4, 4, 3, 2, 3, 3],\n",
        "    'Q16': [3, 3, 3, 2, 3, 4, 4, 2, 4, 4, 4, 3, 2, 3, 3]\n",
        "}\n",
        "\n",
        "df = pd.DataFrame(data)\n",
        "\n",
        "# Calcular el Alfa de Cronbach\n",
        "item_vars = df.var(axis=0, ddof=1)\n",
        "total_var = df.sum(axis=1).var(ddof=1)\n",
        "n_items = df.shape[1]\n",
        "\n",
        "alpha = n_items / (n_items - 1) * (1 - item_vars.sum() / total_var)\n",
        "alpha\n"
      ]
    }
  ]
}