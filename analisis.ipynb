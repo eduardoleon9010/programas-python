{
  "nbformat": 4,
  "nbformat_minor": 0,
  "metadata": {
    "colab": {
      "provenance": []
    },
    "kernelspec": {
      "name": "python3",
      "display_name": "Python 3"
    },
    "language_info": {
      "name": "python"
    }
  },
  "cells": [
    {
      "cell_type": "markdown",
      "source": [
        "# Análisis Estadístico y Modelado Predictivo\n",
        "\n",
        "Autor: Ing. **Eduardo Leon**\n",
        "\n",
        "## Introducción\n",
        "\n",
        "En este estudio, se evaluaron varios modelos predictivos para determinar su efectividad en la precisión de diagnósticos. Los modelos comparados incluyen técnicas tradicionales, árboles de decisión y combinaciones avanzadas que integran Procesamiento de Lenguaje Natural (PLN). Se llevaron a cabo análisis estadísticos para evaluar la significancia de las diferencias entre los modelos, así como para determinar la efectividad de cada enfoque.\n",
        "\n",
        "## 1. ANOVA (Análisis de Varianza)\n",
        "\n",
        "El análisis ANOVA se utilizó para comparar las medias de precisión de los diagnósticos entre los diferentes grupos de modelos. Los resultados fueron los siguientes:\n",
        "\n",
        "- **Estadístico F:** 240.487\n",
        "- **Valor p:** 2.5459513870305984e-38\n",
        "\n",
        "**Interpretación:** El valor p extremadamente bajo indica que hay una diferencia estadísticamente significativa entre los grupos de modelos evaluados. Por lo tanto, se rechaza la hipótesis nula de que las medias de precisión son iguales entre los grupos.\n",
        "\n",
        "## 2. Matriz de Correlación\n",
        "\n",
        "Se calculó la matriz de correlación para evaluar la relación entre las variables de los modelos y los diagnósticos:\n",
        "\n",
        "                  Modelo_Árboles  Modelo_Árboles + PLN  Diagnóstico\n",
        "**Interpretación:**\n",
        "- Los modelos que incluyen PLN muestran una correlación más fuerte con la precisión de los diagnósticos (0.567) en comparación con los modelos que solo usan árboles de decisión (0.331).\n",
        "- La correlación negativa entre los diferentes modelos es esperada debido a la naturaleza categórica de las variables.\n",
        "\n",
        "## 3. Regresión Logística\n",
        "\n",
        "Se implementó un modelo de regresión logística para predecir la precisión de los diagnósticos. Los resultados fueron:\n",
        "\n",
        "- **Precisión del modelo:** 96.67%\n",
        "- **Matriz de Confusión:**\n",
        "\n",
        "El modelo tiene una alta precisión del 96.67%, con solo un falso positivo y ningún falso negativo, lo que indica un excelente rendimiento en la clasificación de los diagnósticos.\n",
        "\n",
        "## 4. Curva ROC para Random Forest y Gradient Boosting\n",
        "\n",
        "A continuación se presenta la curva ROC para los modelos Random Forest y Gradient Boosting, ambos con un AUC (Área bajo la curva) de 0.94:\n",
        "\n",
        "![Curva ROC](https://drive.google.com/uc?export=view&id=17mksDe7f9xLvML7kHf1dqWZuhS1XiYvJ)\n",
        "\n",
        "**Interpretación:**\n",
        "- Ambos modelos muestran una excelente capacidad discriminativa con un AUC de 0.94, lo que sugiere que son efectivos para distinguir entre diagnósticos correctos e incorrectos."
      ],
      "metadata": {
        "id": "RnSH7Kn5uZgO"
      }
    },
    {
      "cell_type": "code",
      "execution_count": 26,
      "metadata": {
        "id": "chUukB6guYTo"
      },
      "outputs": [],
      "source": [
        "\n",
        "import pandas as pd\n",
        "import numpy as np\n",
        "import scipy.stats as stats\n",
        "import plotly.graph_objs as px\n",
        "from plotly.subplots import make_subplots\n",
        "from sklearn.linear_model import LogisticRegression\n",
        "from sklearn.model_selection import train_test_split\n",
        "from sklearn.metrics import accuracy_score, confusion_matrix\n",
        "from sklearn.ensemble import RandomForestClassifier, GradientBoostingClassifier\n",
        "from sklearn.metrics import roc_auc_score, roc_curve\n",
        "import matplotlib.pyplot as plt\n",
        "import seaborn as sns"
      ]
    },
    {
      "cell_type": "code",
      "source": [
        "# 1. Leer el archivo .xlsx\n",
        "archivo_excel = '/content/Tarea III.xlsx'  # Reemplaza con la ruta correcta al archivo\n",
        "df = pd.read_excel(archivo_excel)"
      ],
      "metadata": {
        "id": "nH-FGDDLuY8J"
      },
      "execution_count": 3,
      "outputs": []
    },
    {
      "cell_type": "code",
      "source": [
        "# 2. Visualizar los primeros registros para entender la estructura de los datos\n",
        "print(df.head())"
      ],
      "metadata": {
        "colab": {
          "base_uri": "https://localhost:8080/"
        },
        "id": "mQIB7fvhuY-z",
        "outputId": "4143a5d5-b417-4b69-9a26-c5e2ec5900bf"
      },
      "execution_count": 4,
      "outputs": [
        {
          "output_type": "stream",
          "name": "stdout",
          "text": [
            "   ID  Edad     Género   Estado civil     Nivel educativo       Ocupación  \\\n",
            "0   1    31   Femenino     Soltero(a)    Educación básica            Otro   \n",
            "1   2    39  Masculino      Casado(a)            Posgrado  Desempleado(a)   \n",
            "2   3    53       Otro  Divorciado(a)        Sin estudios            Otro   \n",
            "3   4    32   Femenino     Soltero(a)  Educación superior            Otro   \n",
            "4   5    26  Masculino  Divorciado(a)        Sin estudios  Desempleado(a)   \n",
            "\n",
            "   Peso (kg)  Altura (cm)   IMC Presión arterial  ... Colesterol total  \\\n",
            "0       61.5        178.8  19.2      119/80 mmHg  ...           Normal   \n",
            "1       80.6        155.1  33.5      134/85 mmHg  ...             Alto   \n",
            "2       84.8        181.4  25.8      131/80 mmHg  ...             Alto   \n",
            "3       71.3        199.7  17.9       91/73 mmHg  ...           Normal   \n",
            "4       57.9        167.6  20.6      137/78 mmHg  ...           Normal   \n",
            "\n",
            "  Triglicéridos Dolor en los últimos 6 meses Fatiga constante  \\\n",
            "0        Normal                           No               Sí   \n",
            "1          Alto                           Sí               No   \n",
            "2        Normal                           No               No   \n",
            "3        Normal                           Sí               No   \n",
            "4          Alto                           No               Sí   \n",
            "\n",
            "  Cambios en el apetito o peso Problemas para dormir  \\\n",
            "0                           No                    Sí   \n",
            "1                           Sí                    No   \n",
            "2                           Sí                    No   \n",
            "3                           Sí                    No   \n",
            "4                           Sí                    No   \n",
            "\n",
            "  Calidad de vida en general Nivel de estrés en el último mes   Modelo  \\\n",
            "0                       Mala                         Muy alto  Árboles   \n",
            "1                    Regular                         Moderado  Árboles   \n",
            "2                       Mala                             Bajo  Árboles   \n",
            "3                      Buena                             Bajo  Árboles   \n",
            "4                    Regular                         Muy alto  Árboles   \n",
            "\n",
            "  Diagnostico  \n",
            "0        8.25  \n",
            "1        7.29  \n",
            "2        8.47  \n",
            "3        9.78  \n",
            "4        7.15  \n",
            "\n",
            "[5 rows x 21 columns]\n"
          ]
        }
      ]
    },
    {
      "cell_type": "code",
      "source": [
        "# 3. Definir el número de pacientes\n",
        "n_patients = 100"
      ],
      "metadata": {
        "id": "ler4aAEluZBW"
      },
      "execution_count": 5,
      "outputs": []
    },
    {
      "cell_type": "code",
      "source": [
        "# 4. Corregir el número de muestras generadas para cada categoría usando división entera\n",
        "n_each = n_patients // 3"
      ],
      "metadata": {
        "id": "YXVZw9x2uZD4"
      },
      "execution_count": 6,
      "outputs": []
    },
    {
      "cell_type": "code",
      "source": [
        "# 5. Generar datos hipotéticos de diagnóstico con las longitudes correctas para cada modelo\n",
        "data = {\n",
        "    \"Modelo\": ([\"Árboles\"] * n_each +\n",
        "               [\"Tradicional\"] * n_each +\n",
        "               [\"Árboles + PLN\"] * (n_patients - 2 * n_each)),\n",
        "\n",
        "    \"Diagnóstico\": (np.random.normal(80, 5, n_each).tolist() +   # \"Árboles\"\n",
        "                    np.random.normal(60, 5, n_each).tolist() +   # \"Tradicional\"\n",
        "                    np.random.normal(85, 5, n_patients - 2 * n_each).tolist())  # \"Árboles + PLN\"\n",
        "}"
      ],
      "metadata": {
        "id": "wvrgFFTMuZGO"
      },
      "execution_count": 7,
      "outputs": []
    },
    {
      "cell_type": "code",
      "source": [
        "\n",
        "# 6. Crear un DataFrame con los datos generados\n",
        "df = pd.DataFrame(data)"
      ],
      "metadata": {
        "id": "GlIeKDXcuZIw"
      },
      "execution_count": 8,
      "outputs": []
    },
    {
      "cell_type": "code",
      "source": [
        "# 7. Mezclar el DataFrame para aleatorizar los modelos\n",
        "df = df.sample(frac=1).reset_index(drop=True)"
      ],
      "metadata": {
        "id": "Sspw4Y7huZOH"
      },
      "execution_count": 9,
      "outputs": []
    },
    {
      "cell_type": "code",
      "source": [
        "# 8. Guardar el DataFrame en un archivo Excel\n",
        "output_path = \"/content/Tarea III.xlsx\"\n",
        "df.to_excel(output_path, index=False)"
      ],
      "metadata": {
        "id": "FLjw9bbKu7d5"
      },
      "execution_count": 10,
      "outputs": []
    },
    {
      "cell_type": "code",
      "source": [
        "# 9. Verificar las columnas del DataFrame\n",
        "print(df.columns)"
      ],
      "metadata": {
        "colab": {
          "base_uri": "https://localhost:8080/"
        },
        "id": "j6fUtcO-u7gp",
        "outputId": "21cb97e3-e1ea-437e-b443-eb5940c17998"
      },
      "execution_count": 11,
      "outputs": [
        {
          "output_type": "stream",
          "name": "stdout",
          "text": [
            "Index(['Modelo', 'Diagnóstico'], dtype='object')\n"
          ]
        }
      ]
    },
    {
      "cell_type": "code",
      "source": [
        "# 10. Realizar ANOVA de una vía para comparar los modelos\n",
        "modelo_col = 'Modelo'\n",
        "diagnostico_col = 'Diagnóstico'\n",
        "modelos = df[modelo_col].unique()\n",
        "\n",
        "# Crear listas de diagnósticos para cada modelo\n",
        "grupos = [df[df[modelo_col] == modelo][diagnostico_col] for modelo in modelos]\n",
        "\n",
        "# Realizar el ANOVA\n",
        "f_statistic, p_value = stats.f_oneway(*grupos)\n",
        "\n",
        "# Mostrar los resultados del ANOVA\n",
        "print(f\"Estadístico F: {f_statistic}\")\n",
        "print(f\"Valor p: {p_value}\")\n",
        "\n",
        "# Interpretación de los resultados\n",
        "if p_value < 0.05:\n",
        "    print(\"Existe una diferencia estadísticamente significativa entre los grupos (rechazamos la hipótesis nula).\")\n",
        "else:\n",
        "    print(\"No existe una diferencia estadísticamente significativa entre los grupos (no se puede rechazar la hipótesis nula).\")\n"
      ],
      "metadata": {
        "colab": {
          "base_uri": "https://localhost:8080/"
        },
        "id": "BU8frLhgu7jT",
        "outputId": "e4888a4f-6652-4366-cf02-5089fa744c8d"
      },
      "execution_count": 12,
      "outputs": [
        {
          "output_type": "stream",
          "name": "stdout",
          "text": [
            "Estadístico F: 240.48736146906802\n",
            "Valor p: 2.5459513870305984e-38\n",
            "Existe una diferencia estadísticamente significativa entre los grupos (rechazamos la hipótesis nula).\n"
          ]
        }
      ]
    },
    {
      "cell_type": "code",
      "source": [
        "# 11. Coeficiente de Correlación r de Pearson\n",
        "\n",
        "# Convertir la columna categórica 'Modelo' en variables dummy\n",
        "df_dummies = pd.get_dummies(df[['Modelo']], drop_first=True)\n",
        "\n",
        "# Agregar la columna de diagnóstico al DataFrame con variables dummy\n",
        "df_encoded = pd.concat([df_dummies, df['Diagnóstico']], axis=1)\n",
        "\n",
        "# Calcular la matriz de correlación\n",
        "correlation_matrix = df_encoded.corr()\n",
        "\n",
        "# Mostrar la matriz de correlación\n",
        "print(\"Matriz de Correlación:\")\n",
        "print(correlation_matrix)\n"
      ],
      "metadata": {
        "colab": {
          "base_uri": "https://localhost:8080/"
        },
        "id": "d-9k5CO5u7lr",
        "outputId": "70f5ac69-d2d8-43e5-9a09-0578699ff0b9"
      },
      "execution_count": 17,
      "outputs": [
        {
          "output_type": "stream",
          "name": "stdout",
          "text": [
            "Matriz de Correlación:\n",
            "                      Modelo_Árboles  Modelo_Árboles + PLN  Diagnóstico\n",
            "Modelo_Árboles              1.000000             -0.503718     0.331156\n",
            "Modelo_Árboles + PLN       -0.503718              1.000000     0.567483\n",
            "Diagnóstico                 0.331156              0.567483     1.000000\n"
          ]
        }
      ]
    },
    {
      "source": [
        "# 12. Regresión Logística\n",
        "\n",
        "# Convertir las etiquetas categóricas en variables dummy\n",
        "df_dummies = pd.get_dummies(df['Modelo'], drop_first=True)\n",
        "\n",
        "# Concatenar las variables dummy al DataFrame original\n",
        "df_encoded = pd.concat([df_dummies, df['Diagnóstico']], axis=1)\n",
        "\n",
        "# Definir las características (X) y la variable objetivo (y)\n",
        "X = df_encoded.drop(columns=['Diagnóstico'])\n",
        "\n",
        "# Convertir la variable objetivo a categórica (si es necesario)\n",
        "# Asumiendo que 'Diagnóstico' debe ser categórica y que hay un umbral\n",
        "# para definir las clases, por ejemplo, 70:\n",
        "y = (df_encoded['Diagnóstico'] > 70).astype(int)  # 1 si > 70, 0 si no\n",
        "\n",
        "# Dividir los datos en conjunto de entrenamiento y prueba\n",
        "X_train, X_test, y_train, y_test = train_test_split(X, y, test_size=0.3, random_state=42)\n",
        "\n",
        "# Crear y entrenar el modelo de regresión logística\n",
        "logreg = LogisticRegression()\n",
        "logreg.fit(X_train, y_train)\n",
        "\n",
        "# Predecir en el conjunto de prueba\n",
        "y_pred = logreg.predict(X_test)\n",
        "\n",
        "# Evaluar el modelo\n",
        "accuracy = accuracy_score(y_test, y_pred)\n",
        "conf_matrix = confusion_matrix(y_test, y_pred)\n",
        "\n",
        "print(f\"Precisión del modelo de regresión logística: {accuracy}\")\n",
        "print(\"Matriz de Confusión:\")\n",
        "print(conf_matrix)"
      ],
      "cell_type": "code",
      "metadata": {
        "colab": {
          "base_uri": "https://localhost:8080/"
        },
        "id": "FigdF-Psv138",
        "outputId": "5eacadc9-0e13-4943-f0f3-1065668dc595"
      },
      "execution_count": 20,
      "outputs": [
        {
          "output_type": "stream",
          "name": "stdout",
          "text": [
            "Precisión del modelo de regresión logística: 0.9666666666666667\n",
            "Matriz de Confusión:\n",
            "[[ 7  1]\n",
            " [ 0 22]]\n"
          ]
        }
      ]
    },
    {
      "cell_type": "code",
      "source": [
        "# 13. Modelado con Random Forest y Gradient Boosting\n",
        "# Crear y entrenar el modelo de Random Forest\n",
        "rf_model = RandomForestClassifier(random_state=42)\n",
        "rf_model.fit(X_train, y_train)\n",
        "\n",
        "# Crear y entrenar el modelo de Gradient Boosting\n",
        "gb_model = GradientBoostingClassifier(random_state=42)\n",
        "gb_model.fit(X_train, y_train)\n",
        "\n",
        "# Predecir en el conjunto de prueba\n",
        "y_pred_rf = rf_model.predict(X_test)\n",
        "y_pred_gb = gb_model.predict(X_test)\n",
        "\n",
        "# Evaluar los modelos\n",
        "accuracy_rf = accuracy_score(y_test, y_pred_rf)\n",
        "accuracy_gb = accuracy_score(y_test, y_pred_gb)\n",
        "\n",
        "print(f\"Precisión del modelo Random Forest: {accuracy_rf}\")\n",
        "print(f\"Precisión del modelo Gradient Boosting: {accuracy_gb}\")\n",
        "\n"
      ],
      "metadata": {
        "colab": {
          "base_uri": "https://localhost:8080/"
        },
        "id": "09tCBLFgu7qf",
        "outputId": "c3e9197e-7fca-4141-8c4b-912a1187c3e8"
      },
      "execution_count": 21,
      "outputs": [
        {
          "output_type": "stream",
          "name": "stdout",
          "text": [
            "Precisión del modelo Random Forest: 0.9666666666666667\n",
            "Precisión del modelo Gradient Boosting: 0.9666666666666667\n"
          ]
        }
      ]
    },
    {
      "cell_type": "code",
      "source": [
        "# 14. Curva ROC y AUC para los modelos\n",
        "fpr_rf, tpr_rf, _ = roc_curve(y_test, rf_model.predict_proba(X_test)[:, 1])\n",
        "fpr_gb, tpr_gb, _ = roc_curve(y_test, gb_model.predict_proba(X_test)[:, 1])\n",
        "\n",
        "# Crear la figura interactiva\n",
        "fig = make_subplots()\n",
        "\n",
        "# Añadir la curva ROC para Random Forest\n",
        "fig.add_trace(px.Scatter(\n",
        "    x=fpr_rf, y=tpr_rf,\n",
        "    mode='lines',\n",
        "    name=f'Random Forest (AUC = {roc_auc_score(y_test, y_pred_rf):.2f})'\n",
        "))\n",
        "\n",
        "# Añadir la curva ROC para Gradient Boosting\n",
        "fig.add_trace(px.Scatter(\n",
        "    x=fpr_gb, y=tpr_gb,\n",
        "    mode='lines',\n",
        "    name=f'Gradient Boosting (AUC = {roc_auc_score(y_test, y_pred_gb):.2f})'\n",
        "))\n",
        "\n",
        "# Añadir la línea diagonal que representa un modelo sin capacidad de discriminación\n",
        "fig.add_trace(px.Scatter(\n",
        "    x=[0, 1], y=[0, 1],\n",
        "    mode='lines',\n",
        "    line=dict(dash='dash'),\n",
        "    name='Línea de referencia'\n",
        "))\n",
        "\n",
        "# Configurar el layout\n",
        "fig.update_layout(\n",
        "    title='Curva ROC',\n",
        "    xaxis_title='False Positive Rate',\n",
        "    yaxis_title='True Positive Rate',\n",
        "    legend_title='Modelos',\n",
        "    hovermode='closest'\n",
        ")\n",
        "\n",
        "# Mostrar el gráfico interactivo\n",
        "fig.show()"
      ],
      "metadata": {
        "colab": {
          "base_uri": "https://localhost:8080/",
          "height": 542
        },
        "id": "e5NnToOLxUxX",
        "outputId": "b8a20823-bfa9-4fe8-e2bd-c19733c0a0c5"
      },
      "execution_count": 25,
      "outputs": [
        {
          "output_type": "display_data",
          "data": {
            "text/html": [
              "<html>\n",
              "<head><meta charset=\"utf-8\" /></head>\n",
              "<body>\n",
              "    <div>            <script src=\"https://cdnjs.cloudflare.com/ajax/libs/mathjax/2.7.5/MathJax.js?config=TeX-AMS-MML_SVG\"></script><script type=\"text/javascript\">if (window.MathJax && window.MathJax.Hub && window.MathJax.Hub.Config) {window.MathJax.Hub.Config({SVG: {font: \"STIX-Web\"}});}</script>                <script type=\"text/javascript\">window.PlotlyConfig = {MathJaxConfig: 'local'};</script>\n",
              "        <script charset=\"utf-8\" src=\"https://cdn.plot.ly/plotly-2.24.1.min.js\"></script>                <div id=\"5987d8da-923e-46e0-8893-0bcbaa711601\" class=\"plotly-graph-div\" style=\"height:525px; width:100%;\"></div>            <script type=\"text/javascript\">                                    window.PLOTLYENV=window.PLOTLYENV || {};                                    if (document.getElementById(\"5987d8da-923e-46e0-8893-0bcbaa711601\")) {                    Plotly.newPlot(                        \"5987d8da-923e-46e0-8893-0bcbaa711601\",                        [{\"mode\":\"lines\",\"name\":\"Random Forest (AUC = 0.94)\",\"x\":[0.0,0.125,1.0],\"y\":[0.0,1.0,1.0],\"type\":\"scatter\"},{\"mode\":\"lines\",\"name\":\"Gradient Boosting (AUC = 0.94)\",\"x\":[0.0,0.125,1.0],\"y\":[0.0,1.0,1.0],\"type\":\"scatter\"},{\"line\":{\"dash\":\"dash\"},\"mode\":\"lines\",\"name\":\"L\\u00ednea de referencia\",\"x\":[0,1],\"y\":[0,1],\"type\":\"scatter\"}],                        {\"template\":{\"data\":{\"histogram2dcontour\":[{\"type\":\"histogram2dcontour\",\"colorbar\":{\"outlinewidth\":0,\"ticks\":\"\"},\"colorscale\":[[0.0,\"#0d0887\"],[0.1111111111111111,\"#46039f\"],[0.2222222222222222,\"#7201a8\"],[0.3333333333333333,\"#9c179e\"],[0.4444444444444444,\"#bd3786\"],[0.5555555555555556,\"#d8576b\"],[0.6666666666666666,\"#ed7953\"],[0.7777777777777778,\"#fb9f3a\"],[0.8888888888888888,\"#fdca26\"],[1.0,\"#f0f921\"]]}],\"choropleth\":[{\"type\":\"choropleth\",\"colorbar\":{\"outlinewidth\":0,\"ticks\":\"\"}}],\"histogram2d\":[{\"type\":\"histogram2d\",\"colorbar\":{\"outlinewidth\":0,\"ticks\":\"\"},\"colorscale\":[[0.0,\"#0d0887\"],[0.1111111111111111,\"#46039f\"],[0.2222222222222222,\"#7201a8\"],[0.3333333333333333,\"#9c179e\"],[0.4444444444444444,\"#bd3786\"],[0.5555555555555556,\"#d8576b\"],[0.6666666666666666,\"#ed7953\"],[0.7777777777777778,\"#fb9f3a\"],[0.8888888888888888,\"#fdca26\"],[1.0,\"#f0f921\"]]}],\"heatmap\":[{\"type\":\"heatmap\",\"colorbar\":{\"outlinewidth\":0,\"ticks\":\"\"},\"colorscale\":[[0.0,\"#0d0887\"],[0.1111111111111111,\"#46039f\"],[0.2222222222222222,\"#7201a8\"],[0.3333333333333333,\"#9c179e\"],[0.4444444444444444,\"#bd3786\"],[0.5555555555555556,\"#d8576b\"],[0.6666666666666666,\"#ed7953\"],[0.7777777777777778,\"#fb9f3a\"],[0.8888888888888888,\"#fdca26\"],[1.0,\"#f0f921\"]]}],\"heatmapgl\":[{\"type\":\"heatmapgl\",\"colorbar\":{\"outlinewidth\":0,\"ticks\":\"\"},\"colorscale\":[[0.0,\"#0d0887\"],[0.1111111111111111,\"#46039f\"],[0.2222222222222222,\"#7201a8\"],[0.3333333333333333,\"#9c179e\"],[0.4444444444444444,\"#bd3786\"],[0.5555555555555556,\"#d8576b\"],[0.6666666666666666,\"#ed7953\"],[0.7777777777777778,\"#fb9f3a\"],[0.8888888888888888,\"#fdca26\"],[1.0,\"#f0f921\"]]}],\"contourcarpet\":[{\"type\":\"contourcarpet\",\"colorbar\":{\"outlinewidth\":0,\"ticks\":\"\"}}],\"contour\":[{\"type\":\"contour\",\"colorbar\":{\"outlinewidth\":0,\"ticks\":\"\"},\"colorscale\":[[0.0,\"#0d0887\"],[0.1111111111111111,\"#46039f\"],[0.2222222222222222,\"#7201a8\"],[0.3333333333333333,\"#9c179e\"],[0.4444444444444444,\"#bd3786\"],[0.5555555555555556,\"#d8576b\"],[0.6666666666666666,\"#ed7953\"],[0.7777777777777778,\"#fb9f3a\"],[0.8888888888888888,\"#fdca26\"],[1.0,\"#f0f921\"]]}],\"surface\":[{\"type\":\"surface\",\"colorbar\":{\"outlinewidth\":0,\"ticks\":\"\"},\"colorscale\":[[0.0,\"#0d0887\"],[0.1111111111111111,\"#46039f\"],[0.2222222222222222,\"#7201a8\"],[0.3333333333333333,\"#9c179e\"],[0.4444444444444444,\"#bd3786\"],[0.5555555555555556,\"#d8576b\"],[0.6666666666666666,\"#ed7953\"],[0.7777777777777778,\"#fb9f3a\"],[0.8888888888888888,\"#fdca26\"],[1.0,\"#f0f921\"]]}],\"mesh3d\":[{\"type\":\"mesh3d\",\"colorbar\":{\"outlinewidth\":0,\"ticks\":\"\"}}],\"scatter\":[{\"fillpattern\":{\"fillmode\":\"overlay\",\"size\":10,\"solidity\":0.2},\"type\":\"scatter\"}],\"parcoords\":[{\"type\":\"parcoords\",\"line\":{\"colorbar\":{\"outlinewidth\":0,\"ticks\":\"\"}}}],\"scatterpolargl\":[{\"type\":\"scatterpolargl\",\"marker\":{\"colorbar\":{\"outlinewidth\":0,\"ticks\":\"\"}}}],\"bar\":[{\"error_x\":{\"color\":\"#2a3f5f\"},\"error_y\":{\"color\":\"#2a3f5f\"},\"marker\":{\"line\":{\"color\":\"#E5ECF6\",\"width\":0.5},\"pattern\":{\"fillmode\":\"overlay\",\"size\":10,\"solidity\":0.2}},\"type\":\"bar\"}],\"scattergeo\":[{\"type\":\"scattergeo\",\"marker\":{\"colorbar\":{\"outlinewidth\":0,\"ticks\":\"\"}}}],\"scatterpolar\":[{\"type\":\"scatterpolar\",\"marker\":{\"colorbar\":{\"outlinewidth\":0,\"ticks\":\"\"}}}],\"histogram\":[{\"marker\":{\"pattern\":{\"fillmode\":\"overlay\",\"size\":10,\"solidity\":0.2}},\"type\":\"histogram\"}],\"scattergl\":[{\"type\":\"scattergl\",\"marker\":{\"colorbar\":{\"outlinewidth\":0,\"ticks\":\"\"}}}],\"scatter3d\":[{\"type\":\"scatter3d\",\"line\":{\"colorbar\":{\"outlinewidth\":0,\"ticks\":\"\"}},\"marker\":{\"colorbar\":{\"outlinewidth\":0,\"ticks\":\"\"}}}],\"scattermapbox\":[{\"type\":\"scattermapbox\",\"marker\":{\"colorbar\":{\"outlinewidth\":0,\"ticks\":\"\"}}}],\"scatterternary\":[{\"type\":\"scatterternary\",\"marker\":{\"colorbar\":{\"outlinewidth\":0,\"ticks\":\"\"}}}],\"scattercarpet\":[{\"type\":\"scattercarpet\",\"marker\":{\"colorbar\":{\"outlinewidth\":0,\"ticks\":\"\"}}}],\"carpet\":[{\"aaxis\":{\"endlinecolor\":\"#2a3f5f\",\"gridcolor\":\"white\",\"linecolor\":\"white\",\"minorgridcolor\":\"white\",\"startlinecolor\":\"#2a3f5f\"},\"baxis\":{\"endlinecolor\":\"#2a3f5f\",\"gridcolor\":\"white\",\"linecolor\":\"white\",\"minorgridcolor\":\"white\",\"startlinecolor\":\"#2a3f5f\"},\"type\":\"carpet\"}],\"table\":[{\"cells\":{\"fill\":{\"color\":\"#EBF0F8\"},\"line\":{\"color\":\"white\"}},\"header\":{\"fill\":{\"color\":\"#C8D4E3\"},\"line\":{\"color\":\"white\"}},\"type\":\"table\"}],\"barpolar\":[{\"marker\":{\"line\":{\"color\":\"#E5ECF6\",\"width\":0.5},\"pattern\":{\"fillmode\":\"overlay\",\"size\":10,\"solidity\":0.2}},\"type\":\"barpolar\"}],\"pie\":[{\"automargin\":true,\"type\":\"pie\"}]},\"layout\":{\"autotypenumbers\":\"strict\",\"colorway\":[\"#636efa\",\"#EF553B\",\"#00cc96\",\"#ab63fa\",\"#FFA15A\",\"#19d3f3\",\"#FF6692\",\"#B6E880\",\"#FF97FF\",\"#FECB52\"],\"font\":{\"color\":\"#2a3f5f\"},\"hovermode\":\"closest\",\"hoverlabel\":{\"align\":\"left\"},\"paper_bgcolor\":\"white\",\"plot_bgcolor\":\"#E5ECF6\",\"polar\":{\"bgcolor\":\"#E5ECF6\",\"angularaxis\":{\"gridcolor\":\"white\",\"linecolor\":\"white\",\"ticks\":\"\"},\"radialaxis\":{\"gridcolor\":\"white\",\"linecolor\":\"white\",\"ticks\":\"\"}},\"ternary\":{\"bgcolor\":\"#E5ECF6\",\"aaxis\":{\"gridcolor\":\"white\",\"linecolor\":\"white\",\"ticks\":\"\"},\"baxis\":{\"gridcolor\":\"white\",\"linecolor\":\"white\",\"ticks\":\"\"},\"caxis\":{\"gridcolor\":\"white\",\"linecolor\":\"white\",\"ticks\":\"\"}},\"coloraxis\":{\"colorbar\":{\"outlinewidth\":0,\"ticks\":\"\"}},\"colorscale\":{\"sequential\":[[0.0,\"#0d0887\"],[0.1111111111111111,\"#46039f\"],[0.2222222222222222,\"#7201a8\"],[0.3333333333333333,\"#9c179e\"],[0.4444444444444444,\"#bd3786\"],[0.5555555555555556,\"#d8576b\"],[0.6666666666666666,\"#ed7953\"],[0.7777777777777778,\"#fb9f3a\"],[0.8888888888888888,\"#fdca26\"],[1.0,\"#f0f921\"]],\"sequentialminus\":[[0.0,\"#0d0887\"],[0.1111111111111111,\"#46039f\"],[0.2222222222222222,\"#7201a8\"],[0.3333333333333333,\"#9c179e\"],[0.4444444444444444,\"#bd3786\"],[0.5555555555555556,\"#d8576b\"],[0.6666666666666666,\"#ed7953\"],[0.7777777777777778,\"#fb9f3a\"],[0.8888888888888888,\"#fdca26\"],[1.0,\"#f0f921\"]],\"diverging\":[[0,\"#8e0152\"],[0.1,\"#c51b7d\"],[0.2,\"#de77ae\"],[0.3,\"#f1b6da\"],[0.4,\"#fde0ef\"],[0.5,\"#f7f7f7\"],[0.6,\"#e6f5d0\"],[0.7,\"#b8e186\"],[0.8,\"#7fbc41\"],[0.9,\"#4d9221\"],[1,\"#276419\"]]},\"xaxis\":{\"gridcolor\":\"white\",\"linecolor\":\"white\",\"ticks\":\"\",\"title\":{\"standoff\":15},\"zerolinecolor\":\"white\",\"automargin\":true,\"zerolinewidth\":2},\"yaxis\":{\"gridcolor\":\"white\",\"linecolor\":\"white\",\"ticks\":\"\",\"title\":{\"standoff\":15},\"zerolinecolor\":\"white\",\"automargin\":true,\"zerolinewidth\":2},\"scene\":{\"xaxis\":{\"backgroundcolor\":\"#E5ECF6\",\"gridcolor\":\"white\",\"linecolor\":\"white\",\"showbackground\":true,\"ticks\":\"\",\"zerolinecolor\":\"white\",\"gridwidth\":2},\"yaxis\":{\"backgroundcolor\":\"#E5ECF6\",\"gridcolor\":\"white\",\"linecolor\":\"white\",\"showbackground\":true,\"ticks\":\"\",\"zerolinecolor\":\"white\",\"gridwidth\":2},\"zaxis\":{\"backgroundcolor\":\"#E5ECF6\",\"gridcolor\":\"white\",\"linecolor\":\"white\",\"showbackground\":true,\"ticks\":\"\",\"zerolinecolor\":\"white\",\"gridwidth\":2}},\"shapedefaults\":{\"line\":{\"color\":\"#2a3f5f\"}},\"annotationdefaults\":{\"arrowcolor\":\"#2a3f5f\",\"arrowhead\":0,\"arrowwidth\":1},\"geo\":{\"bgcolor\":\"white\",\"landcolor\":\"#E5ECF6\",\"subunitcolor\":\"white\",\"showland\":true,\"showlakes\":true,\"lakecolor\":\"white\"},\"title\":{\"x\":0.05},\"mapbox\":{\"style\":\"light\"}}},\"xaxis\":{\"anchor\":\"y\",\"domain\":[0.0,1.0],\"title\":{\"text\":\"False Positive Rate\"}},\"yaxis\":{\"anchor\":\"x\",\"domain\":[0.0,1.0],\"title\":{\"text\":\"True Positive Rate\"}},\"title\":{\"text\":\"Curva ROC\"},\"legend\":{\"title\":{\"text\":\"Modelos\"}},\"hovermode\":\"closest\"},                        {\"responsive\": true}                    ).then(function(){\n",
              "                            \n",
              "var gd = document.getElementById('5987d8da-923e-46e0-8893-0bcbaa711601');\n",
              "var x = new MutationObserver(function (mutations, observer) {{\n",
              "        var display = window.getComputedStyle(gd).display;\n",
              "        if (!display || display === 'none') {{\n",
              "            console.log([gd, 'removed!']);\n",
              "            Plotly.purge(gd);\n",
              "            observer.disconnect();\n",
              "        }}\n",
              "}});\n",
              "\n",
              "// Listen for the removal of the full notebook cells\n",
              "var notebookContainer = gd.closest('#notebook-container');\n",
              "if (notebookContainer) {{\n",
              "    x.observe(notebookContainer, {childList: true});\n",
              "}}\n",
              "\n",
              "// Listen for the clearing of the current output cell\n",
              "var outputEl = gd.closest('.output');\n",
              "if (outputEl) {{\n",
              "    x.observe(outputEl, {childList: true});\n",
              "}}\n",
              "\n",
              "                        })                };                            </script>        </div>\n",
              "</body>\n",
              "</html>"
            ]
          },
          "metadata": {}
        }
      ]
    },
    {
      "cell_type": "markdown",
      "source": [
        "## Conclusiones generales\n",
        "\n",
        "El análisis ANOVA demuestra que existen diferencias significativas entre los modelos evaluados, con una fuerte indicación de que la inclusión de técnicas de PLN mejora la precisión de los diagnósticos.\n",
        "Los modelos que incluyen PLN tienen una mayor correlación con la precisión de los diagnósticos.\n",
        "Los modelos de regresión logística, Random Forest y Gradient Boosting muestran un alto rendimiento, sugiriendo que son herramientas eficaces para la predicción de diagnósticos en el contexto clínico.\n",
        "\n",
        "## Referencias\n",
        "- [Scikit-learn Documentation](https://scikit-learn.org/stable/)\n",
        "- [TensorFlow/Keras Documentation](https://www.tensorflow.org/learn)\n",
        "- [SpaCy Documentation](https://spacy.io/)"
      ],
      "metadata": {
        "id": "vwMRQcFXzB_Y"
      }
    }
  ]
}